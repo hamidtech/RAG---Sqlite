{
  "cells": [
    {
      "cell_type": "markdown",
      "source": [
        "# Initializing Libraries"
      ],
      "metadata": {
        "id": "qPu-x1XvM-zZ"
      }
    },
    {
      "cell_type": "code",
      "source": [
        "import logging\n",
        "import sqlite3\n",
        "from typing import Annotated, List, Literal, Optional, Tuple\n",
        "from typing_extensions import TypedDict\n",
        "\n",
        "# Configure logging\n",
        "logging.basicConfig(\n",
        "    level=logging.INFO,\n",
        "    format='%(asctime)s - %(name)s - %(levelname)s - %(message)s'\n",
        ")\n",
        "logger = logging.getLogger(\"RAG_Student_System\")\n",
        "\n",
        "# Install required packages\n",
        "logger.info(\"Installing required packages...\")\n",
        "!pip install -qU 'langgraph==0.3.21' 'langchain-google-genai==2.1.2' 'langgraph-prebuilt==0.1.7'\n",
        "\n",
        "import os\n",
        "\n",
        "# Get API key - In Colab, use userdata; otherwise use environment variables\n",
        "\n",
        "from google.colab import userdata\n",
        "GOOGLE_API_KEY = userdata.get('GOOGLE_API_KEY')\n",
        "os.environ[\"GOOGLE_API_KEY\"] = GOOGLE_API_KEY\n",
        "\n",
        "from langchain_core.tools import tool\n",
        "from langchain_google_genai import ChatGoogleGenerativeAI\n",
        "from langchain_core.messages.ai import AIMessage\n",
        "from langgraph.graph import StateGraph, START, END\n",
        "from langgraph.graph.message import add_messages\n",
        "from langgraph.prebuilt import ToolNode"
      ],
      "metadata": {
        "id": "a63NLgvwNCWf"
      },
      "execution_count": null,
      "outputs": []
    },
    {
      "cell_type": "markdown",
      "source": [
        "# PART 1: DATABASE INITIALIZATION"
      ],
      "metadata": {
        "id": "2Sqaz9l7NI4O"
      }
    },
    {
      "cell_type": "code",
      "source": [
        "class DatabaseManager:\n",
        "    \"\"\"Manages SQLite database operations for the RAG system\"\"\"\n",
        "\n",
        "    def __init__(self, db_path: Optional[str] = None):\n",
        "        \"\"\"\n",
        "        Initialize database connection\n",
        "\n",
        "        Args:\n",
        "            db_path: Path to SQLite database file. If None, uses in-memory database\n",
        "        \"\"\"\n",
        "        self.db_path = db_path if db_path else ':memory:'\n",
        "        logger.info(f\"Initializing database at {self.db_path}\")\n",
        "        self.conn = sqlite3.connect(self.db_path , check_same_thread=False)\n",
        "        self.cursor = self.conn.cursor()\n",
        "\n",
        "    def setup_schema(self):\n",
        "        \"\"\"Create the students table schema\"\"\"\n",
        "        logger.info(\"Creating students table schema\")\n",
        "        self.cursor.execute('''\n",
        "            CREATE TABLE IF NOT EXISTS students (\n",
        "                id INTEGER PRIMARY KEY AUTOINCREMENT,\n",
        "                first_name TEXT,\n",
        "                last_name TEXT,\n",
        "                age INTEGER,\n",
        "                major TEXT,\n",
        "                gpa REAL,\n",
        "                marital_status TEXT,\n",
        "                education_status TEXT\n",
        "            )\n",
        "        ''')\n",
        "        self.conn.commit()\n",
        "\n",
        "    def populate_sample_data(self, data: List[Tuple]):\n",
        "        \"\"\"\n",
        "        Populate the database with sample student records\n",
        "\n",
        "        Args:\n",
        "            data: List of student record tuples\n",
        "        \"\"\"\n",
        "        logger.info(f\"Populating database with {len(data)} sample records\")\n",
        "        self.cursor.executemany('''\n",
        "            INSERT INTO students\n",
        "            (first_name, last_name, age, major, gpa, marital_status, education_status)\n",
        "            VALUES (?, ?, ?, ?, ?, ?, ?)\n",
        "        ''', data)\n",
        "        self.conn.commit()\n",
        "\n",
        "    def run_test_query(self, limit: int = 3):\n",
        "        \"\"\"Run a test query to verify database setup\"\"\"\n",
        "        logger.info(\"Running test query\")\n",
        "        results = []\n",
        "        for row in self.cursor.execute(f\"SELECT * FROM students LIMIT {limit}\"):\n",
        "            results.append(row)\n",
        "            logger.info(f\"Test row: {row}\")\n",
        "        return results\n",
        "\n",
        "    def execute_query(self, query: str) -> List[Tuple]:\n",
        "        \"\"\"\n",
        "        Execute an SQL query and return results\n",
        "\n",
        "        Args:\n",
        "            query: SQL query string\n",
        "\n",
        "        Returns:\n",
        "            List of result tuples\n",
        "        \"\"\"\n",
        "        logger.debug(f\"Executing query: {query}\")\n",
        "        try:\n",
        "            self.cursor.execute(query)\n",
        "            rows = self.cursor.fetchall()\n",
        "            logger.debug(f\"Query returned {len(rows)} results\")\n",
        "            return rows\n",
        "        except Exception as e:\n",
        "            logger.error(f\"Database query error: {e}\")\n",
        "            raise\n",
        "\n",
        "# Create database instance\n",
        "db_manager = DatabaseManager()"
      ],
      "metadata": {
        "id": "aCQdeMEnNKhr"
      },
      "execution_count": 2,
      "outputs": []
    },
    {
      "cell_type": "markdown",
      "source": [
        "# PART 2: LANGGRAPH STATE AND TOOLS"
      ],
      "metadata": {
        "id": "1Aq8H_Q2NNAz"
      }
    },
    {
      "cell_type": "code",
      "source": [
        "# Define the state for our LangGraph\n",
        "class StudentQueryState(TypedDict):\n",
        "    messages: Annotated[list, add_messages]\n",
        "    finished: bool\n",
        "\n",
        "# System prompt for the student database assistant\n",
        "STUDENT_DB_SYSINT = (\n",
        "    \"system\",\n",
        "    \"You are a Student Database Assistant, helping users query and analyze student records. \"\n",
        "    \"You can answer questions about students in the database, including their personal details, \"\n",
        "    \"academic information, and statistics. You should always use the ask_students_db tool to query \"\n",
        "    \"the database when answering questions about specific data or statistics. \"\n",
        "    \"\\n\\n\"\n",
        "    \"Be professional, concise, and accurate in your responses. If a query returns no results, \"\n",
        "    \"explain this clearly. If a user asks a question that requires data outside your knowledge or \"\n",
        "    \"the database, politely explain that you can only provide information contained in the student database.\"\n",
        "    \"\\n\\n\"\n",
        "    \"Always verify that SQL queries are correctly formatted before executing them, and interpret the \"\n",
        "    \"results in a human-friendly way after receiving them.\"\n",
        ")\n",
        "\n",
        "WELCOME_MSG = \"Welcome to the Student Database Assistant. I can help you query information about students. What would you like to know?\"\n",
        "\n",
        "# Define tool for querying the database\n",
        "@tool\n",
        "def ask_students_db(query: str) -> str:\n",
        "    \"\"\"\n",
        "    Execute SQL queries on the students table and return the results.\n",
        "    The students table has the following columns:\n",
        "    - id (INTEGER)\n",
        "    - first_name (TEXT)\n",
        "    - last_name (TEXT)\n",
        "    - age (INTEGER)\n",
        "    - major (TEXT)\n",
        "    - gpa (REAL)\n",
        "    - marital_status (TEXT)\n",
        "    - education_status (TEXT)\n",
        "    \"\"\"\n",
        "    logger.info(f\"Executing query: {query}\")\n",
        "    try:\n",
        "        rows = db_manager.execute_query(query)\n",
        "        if not rows:\n",
        "            return \"No results found for this query.\"\n",
        "\n",
        "        out = []\n",
        "        for r in rows:\n",
        "            out.append(str(r))\n",
        "        result = \"\\n\".join(out)\n",
        "        return result\n",
        "    except Exception as e:\n",
        "        error_msg = f\"Error executing query: {e}\"\n",
        "        logger.error(error_msg)\n",
        "        return error_msg\n"
      ],
      "metadata": {
        "id": "52UW72ZMNOWK"
      },
      "execution_count": 3,
      "outputs": []
    },
    {
      "cell_type": "markdown",
      "source": [
        "# PART 3: LANGGRAPH NODES"
      ],
      "metadata": {
        "id": "DKmXzveKNQri"
      }
    },
    {
      "cell_type": "code",
      "source": [
        "# Initialize the LLM\n",
        "llm = ChatGoogleGenerativeAI(model=\"gemini-2.0-flash\")\n",
        "# Create LLM with tools binding\n",
        "tools = [ask_students_db]\n",
        "llm_with_tools = llm.bind_tools(tools)\n",
        "tool_node = ToolNode(tools)\n",
        "\n",
        "def chatbot_node(state: StudentQueryState) -> StudentQueryState:\n",
        "    \"\"\"Node for generating responses with the LLM\"\"\"\n",
        "    defaults = {\"finished\": False}\n",
        "\n",
        "    if state.get(\"messages\", []):\n",
        "        logger.info(\"Generating LLM response\")\n",
        "        new_output = llm_with_tools.invoke([STUDENT_DB_SYSINT] + state[\"messages\"])\n",
        "    else:\n",
        "        logger.info(\"Generating welcome message\")\n",
        "        new_output = AIMessage(content=WELCOME_MSG)\n",
        "\n",
        "    return defaults | state | {\"messages\": [new_output]}\n",
        "\n",
        "def human_node(state: StudentQueryState) -> StudentQueryState:\n",
        "    \"\"\"Node for handling human input\"\"\"\n",
        "    last_msg = state[\"messages\"][-1]\n",
        "    print(\"Assistant:\", last_msg.content)\n",
        "    user_input = input(\"User: \")\n",
        "\n",
        "    # Check for exit commands\n",
        "    if user_input.strip().lower() in [\"q\", \"quit\", \"exit\", \"goodbye\"]:\n",
        "        logger.info(\"User requested to exit\")\n",
        "        state[\"finished\"] = True\n",
        "\n",
        "    return state | {\"messages\": [(\"user\", user_input)]}"
      ],
      "metadata": {
        "id": "UOyxNIbKNR7J"
      },
      "execution_count": 4,
      "outputs": []
    },
    {
      "cell_type": "markdown",
      "source": [
        "# PART 4: GRAPH ROUTING FUNCTIONS"
      ],
      "metadata": {
        "id": "jI-Xwy8dNU5z"
      }
    },
    {
      "cell_type": "code",
      "source": [
        "def route_based_on_tools(state: StudentQueryState) -> Literal[\"tools\", \"human\"]:\n",
        "    \"\"\"Route to tools if needed, otherwise to human node\"\"\"\n",
        "    if not (msgs := state.get(\"messages\", [])):\n",
        "        raise ValueError(f\"No messages found when parsing state: {state}\")\n",
        "\n",
        "    msg = msgs[-1]\n",
        "    if hasattr(msg, \"tool_calls\") and len(msg.tool_calls) > 0:\n",
        "        logger.debug(\"Routing to tools node\")\n",
        "        return \"tools\"\n",
        "    else:\n",
        "        logger.debug(\"Routing to human node\")\n",
        "        return \"human\"\n",
        "\n",
        "def maybe_exit_human_node(state: StudentQueryState) -> Literal[\"chatbot\", \"__end__\"]:\n",
        "    \"\"\"Check if we should exit or continue the conversation\"\"\"\n",
        "    if state.get(\"finished\", False):\n",
        "        logger.info(\"Conversation finished, ending graph\")\n",
        "        return END\n",
        "    else:\n",
        "        logger.debug(\"Continuing conversation\")\n",
        "        return \"chatbot\""
      ],
      "metadata": {
        "id": "yrQ7GDkFNWIx"
      },
      "execution_count": 5,
      "outputs": []
    },
    {
      "cell_type": "markdown",
      "source": [
        "# PART 5: BUILD AND RUN THE GRAPH"
      ],
      "metadata": {
        "id": "0cj0UfbBSwS3"
      }
    },
    {
      "cell_type": "code",
      "source": [
        "\n",
        "def build_graph():\n",
        "    \"\"\"Build the LangGraph for the student database assistant\"\"\"\n",
        "    logger.info(\"Building LangGraph\")\n",
        "\n",
        "    graph_builder = StateGraph(StudentQueryState)\n",
        "\n",
        "    # Add nodes\n",
        "    graph_builder.add_node(\"chatbot\", chatbot_node)\n",
        "    graph_builder.add_node(\"human\", human_node)\n",
        "    graph_builder.add_node(\"tools\", tool_node)\n",
        "\n",
        "    # Add edges\n",
        "    graph_builder.add_edge(START, \"chatbot\")\n",
        "    graph_builder.add_conditional_edges(\"chatbot\", route_based_on_tools)\n",
        "    graph_builder.add_conditional_edges(\"human\", maybe_exit_human_node)\n",
        "    graph_builder.add_edge(\"tools\", \"chatbot\")\n",
        "\n",
        "    # Compile the graph\n",
        "    return graph_builder.compile()\n",
        "\n",
        "def setup_database():\n",
        "    \"\"\"Setup and populate the student database\"\"\"\n",
        "    logger.info(\"Setting up database\")\n",
        "\n",
        "    # Sample student data\n",
        "    sample_data = [\n",
        "        (\"Ali\", \"Rezaei\", 20, \"Computer Engineering\", 16.2, \"Single\", \"Undergraduate\"),\n",
        "        (\"Zahra\", \"Kamali\", 24, \"Mathematics\", 17.4, \"Married\", \"Master\"),\n",
        "        (\"Sina\", \"Nazari\", 22, \"Physics\", 18.1, \"Single\", \"Undergraduate\"),\n",
        "        (\"Maryam\", \"Moradi\", 26, \"Computer Engineering\", 15.8, \"Single\", \"Master\"),\n",
        "        (\"Nima\", \"Ahmadi\", 23, \"Computer Engineering\", 14.7, \"Married\", \"Undergraduate\"),\n",
        "        (\"Fatemeh\", \"Azizi\", 29, \"Chemistry\", 17.9, \"Single\", \"PhD\"),\n",
        "        (\"Reza\", \"Mohebbi\", 21, \"Mathematics\", 13.4, \"Single\", \"Undergraduate\"),\n",
        "        (\"Sara\", \"Pakdel\", 27, \"Chemistry\", 19.1, \"Married\", \"PhD\"),\n",
        "        (\"Ahmad\", \"Ghorbani\", 28, \"Physics\", 16.5, \"Single\", \"Master\"),\n",
        "        (\"Nazanin\", \"Hosseini\", 30, \"Industrial Engineering\", 14.2, \"Married\", \"PhD\"),\n",
        "        (\"Amir\", \"Shirazi\", 25, \"Mathematics\", 16.0, \"Single\", \"Master\"),\n",
        "        (\"Parisa\", \"Fattahi\", 24, \"Industrial Engineering\", 15.2, \"Single\", \"Undergraduate\"),\n",
        "        (\"Hamed\", \"Alavi\", 19, \"Computer Engineering\", 12.8, \"Single\", \"Undergraduate\"),\n",
        "        (\"Shima\", \"Kavian\", 31, \"Physics\", 17.3, \"Married\", \"PhD\"),\n",
        "        (\"Yasaman\", \"Rahmani\", 22, \"Industrial Engineering\", 14.4, \"Single\", \"Undergraduate\"),\n",
        "        (\"Ali\", \"Bagheri\", 32, \"Chemistry\", 16.9, \"Married\", \"PhD\"),\n",
        "        (\"Elham\", \"Najafi\", 28, \"Mathematics\", 18.2, \"Married\", \"Master\"),\n",
        "        (\"Reyhane\", \"Mohseni\", 21, \"Computer Engineering\", 16.7, \"Single\", \"Undergraduate\"),\n",
        "        (\"Hamid\", \"Zakeri\", 25, \"Physics\", 15.3, \"Single\", \"Master\"),\n",
        "        (\"Mona\", \"Soltani\", 27, \"Chemistry\", 16.1, \"Single\", \"Master\"),\n",
        "    ]\n",
        "\n",
        "    db_manager.setup_schema()\n",
        "    db_manager.populate_sample_data(sample_data)\n",
        "    db_manager.run_test_query()\n",
        "\n",
        "def run_interactive_session(graph, initial_message=None):\n",
        "    \"\"\"Run an interactive session with the graph\"\"\"\n",
        "    logger.info(\"Starting interactive session\")\n",
        "\n",
        "    # Set up initial state\n",
        "    if initial_message:\n",
        "        state = {\"messages\": [(\"user\", initial_message)]}\n",
        "    else:\n",
        "        state = {\"messages\": []}\n",
        "\n",
        "    # Run the graph\n",
        "    try:\n",
        "        config = {\"recursion_limit\": 50}\n",
        "        graph.invoke(state, config=config)\n",
        "        logger.info(\"Interactive session completed\")\n",
        "    except Exception as e:\n",
        "        logger.error(f\"Error in interactive session: {e}\")\n",
        "        raise\n"
      ],
      "metadata": {
        "id": "ehiTGR1sSx4w"
      },
      "execution_count": 6,
      "outputs": []
    },
    {
      "cell_type": "code",
      "source": [
        "def main():\n",
        "    \"\"\"Main function to run the student database RAG application\"\"\"\n",
        "    try:\n",
        "        # Set up the database\n",
        "        setup_database()\n",
        "\n",
        "        # Build the graph\n",
        "        graph = build_graph()\n",
        "\n",
        "        # Optional: Visualize the graph if in a notebook environment\n",
        "        try:\n",
        "            from IPython.display import Image, display\n",
        "            display(Image(graph.get_graph().draw_mermaid_png()))\n",
        "        except ImportError:\n",
        "            logger.info(\"IPython not available, skipping graph visualization\")\n",
        "\n",
        "        # Run interactive session\n",
        "        initial_question = \"How many students do we have?\"\n",
        "        run_interactive_session(graph, initial_question)\n",
        "\n",
        "    except Exception as e:\n",
        "        logger.error(f\"Application error: {e}\")\n",
        "        raise\n",
        "\n",
        "if __name__ == \"__main__\":\n",
        "    main()"
      ],
      "metadata": {
        "id": "ZX5OGF0DSz-Z"
      },
      "execution_count": null,
      "outputs": []
    }
  ],
  "metadata": {
    "colab": {
      "provenance": []
    },
    "kernelspec": {
      "display_name": "Python 3",
      "name": "python3"
    },
    "language_info": {
      "name": "python"
    }
  },
  "nbformat": 4,
  "nbformat_minor": 0
}